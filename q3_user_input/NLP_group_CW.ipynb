{
 "cells": [
  {
   "cell_type": "code",
   "execution_count": 3,
   "id": "dd3edaab-4abd-46b3-8e09-d36fec34a889",
   "metadata": {},
   "outputs": [
    {
     "name": "stdout",
     "output_type": "stream",
     "text": [
      "Requirement already satisfied: requests in /opt/anaconda3/lib/python3.11/site-packages (2.31.0)\n",
      "Requirement already satisfied: charset-normalizer<4,>=2 in /opt/anaconda3/lib/python3.11/site-packages (from requests) (2.0.4)\n",
      "Requirement already satisfied: idna<4,>=2.5 in /opt/anaconda3/lib/python3.11/site-packages (from requests) (3.4)\n",
      "Requirement already satisfied: urllib3<3,>=1.21.1 in /opt/anaconda3/lib/python3.11/site-packages (from requests) (2.0.7)\n",
      "Requirement already satisfied: certifi>=2017.4.17 in /opt/anaconda3/lib/python3.11/site-packages (from requests) (2024.2.2)\n",
      "Note: you may need to restart the kernel to use updated packages.\n"
     ]
    }
   ],
   "source": [
    "pip install requests"
   ]
  },
  {
   "cell_type": "code",
   "execution_count": 4,
   "id": "a6e21554-7e54-4d60-8f05-3a7096703b44",
   "metadata": {},
   "outputs": [],
   "source": []
  },
  {
   "cell_type": "code",
   "execution_count": 1,
   "id": "ad4814c7-9ff6-41cc-a927-cf38ce6ed659",
   "metadata": {},
   "outputs": [
    {
     "name": "stdout",
     "output_type": "stream",
     "text": [
      "hello world\n"
     ]
    }
   ],
   "source": [
    "print(\"hello world\")"
   ]
  },
  {
   "cell_type": "code",
   "execution_count": 13,
   "id": "c6f1749d-e79f-450f-8dca-e7468d8e8d0a",
   "metadata": {},
   "outputs": [
    {
     "name": "stdin",
     "output_type": "stream",
     "text": [
      "Enter your text:  In a recent study conducted at the BHC (Biomedical Health Center), researchers investigated the impact of ECG (Electrocardiogram) abnormalities on patients with CHD (Coronary Heart Disease). The study involved analyzing data from over 500 patients who underwent regular ECG monitoring. Results indicated that patients with CHD exhibited a higher prevalence of abnormal ECG findings, such as ST-segment elevation and T-wave inversion. Furthermore, the study revealed a correlation between ECG abnormalities and adverse cardiac events, including myocardial infarction and arrhythmias. These findings suggest the importance of routine ECG screening in the management of patients with CHD\n"
     ]
    }
   ],
   "source": [
    "import requests\n",
    "\n",
    "# Get user input for the text\n",
    "text_input = input(\"Enter your text: \")\n"
   ]
  },
  {
   "cell_type": "code",
   "execution_count": 18,
   "id": "a91f1d4d-6c03-4081-bf8c-025a31b6d5c2",
   "metadata": {},
   "outputs": [
    {
     "name": "stdout",
     "output_type": "stream",
     "text": [
      "{'input_text': 'In a recent study conducted at the BHC (Biomedical Health Center), researchers investigated the impact of ECG (Electrocardiogram) abnormalities on patients with CHD (Coronary Heart Disease). The study involved analyzing data from over 500 patients who underwent regular ECG monitoring. Results indicated that patients with CHD exhibited a higher prevalence of abnormal ECG findings, such as ST-segment elevation and T-wave inversion. Furthermore, the study revealed a correlation between ECG abnormalities and adverse cardiac events, including myocardial infarction and arrhythmias. These findings suggest the importance of routine ECG screening in the management of patients with CHD', 'predictions': [0, 0, 0, 0, 0, 0, 0, 0, 1, 1, 0, 2, 2, 3, 3, 0, 0, 0, 0, 0, 0, 1, 1, 0, 2, 2, 2, 0, 3, 0, 0, 0, 0, 0, 1, 1, 0, 2, 2, 2, 3, 3, 0, 0, 0, 0, 0, 0, 0, 0, 0, 0, 0, 0, 0, 1, 1, 0, 0, 0, 0, 0, 0, 0, 1, 1, 0, 0, 0, 0, 0, 0, 1, 1, 0, 0, 0, 0, 1, 0, 0, 0, 0, 0, 0, 0, 0, 0, 0, 0, 0, 0, 0, 0, 0, 0, 0, 0, 1, 1, 0, 0, 0, 0, 0, 0, 0, 0, 0, 0, 0, 0, 0, 0, 0, 0, 0, 0, 0, 0, 0, 0, 0, 0, 0, 0, 1, 1, 0, 0, 0, 0, 0, 0, 0, 1, 1, 0]}\n"
     ]
    }
   ],
   "source": [
    "\n",
    "# Create the data dictionary with user input\n",
    "new_data = {\n",
    "    \"text\": text_input\n",
    "}\n",
    "\n",
    "# The API endpoint to communicate with\n",
    "url_post = \"http://127.0.0.1:5000/predict\"\n",
    "\n",
    "# A POST request to the API\n",
    "post_response = requests.post(url_post, json=new_data)\n",
    "\n",
    "# Print the response\n",
    "post_response_json = post_response.json()\n",
    "print(post_response_json)\n"
   ]
  },
  {
   "cell_type": "code",
   "execution_count": null,
   "id": "a264a590-d9ba-425f-8dc7-bba5b62b32a2",
   "metadata": {},
   "outputs": [],
   "source": []
  }
 ],
 "metadata": {
  "kernelspec": {
   "display_name": "Python 3 (ipykernel)",
   "language": "python",
   "name": "python3"
  },
  "language_info": {
   "codemirror_mode": {
    "name": "ipython",
    "version": 3
   },
   "file_extension": ".py",
   "mimetype": "text/x-python",
   "name": "python",
   "nbconvert_exporter": "python",
   "pygments_lexer": "ipython3",
   "version": "3.11.7"
  }
 },
 "nbformat": 4,
 "nbformat_minor": 5
}
